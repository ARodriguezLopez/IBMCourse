{
 "cells": [
  {
   "cell_type": "markdown",
   "id": "1a725b11",
   "metadata": {},
   "source": [
    "# My Jupyter Notebook on IBM Watson Studio"
   ]
  },
  {
   "cell_type": "markdown",
   "id": "e86d3a57",
   "metadata": {},
   "source": [
    "**My name is Álvaro Rodríguez**  \n",
    "I work as an experimental physicist"
   ]
  },
  {
   "cell_type": "markdown",
   "id": "1239bc08",
   "metadata": {},
   "source": [
    "*I am interested in data science because it's consider as the future of experimental sciences*"
   ]
  },
  {
   "cell_type": "markdown",
   "id": "9de81735",
   "metadata": {},
   "source": [
    "### Cell 5 code prints a message"
   ]
  },
  {
   "cell_type": "code",
   "execution_count": 1,
   "id": "7105be73",
   "metadata": {},
   "outputs": [
    {
     "name": "stdout",
     "output_type": "stream",
     "text": [
      "This is my first code in Python\n"
     ]
    }
   ],
   "source": [
    "print(\"This is my first code in Python\")"
   ]
  },
  {
   "cell_type": "markdown",
   "id": "422c34f5",
   "metadata": {},
   "source": [
    "- List of web pages\n",
    "    - Python: (https://www.python.org/)\n",
    "    - Jupyter (https://jupyter.org/)\n",
    "    - ~ Numpy ~\n",
    " "
   ]
  },
  {
   "cell_type": "code",
   "execution_count": null,
   "id": "d455cc66",
   "metadata": {},
   "outputs": [],
   "source": []
  }
 ],
 "metadata": {
  "kernelspec": {
   "display_name": "Python 3 (ipykernel)",
   "language": "python",
   "name": "python3"
  },
  "language_info": {
   "codemirror_mode": {
    "name": "ipython",
    "version": 3
   },
   "file_extension": ".py",
   "mimetype": "text/x-python",
   "name": "python",
   "nbconvert_exporter": "python",
   "pygments_lexer": "ipython3",
   "version": "3.9.7"
  }
 },
 "nbformat": 4,
 "nbformat_minor": 5
}
