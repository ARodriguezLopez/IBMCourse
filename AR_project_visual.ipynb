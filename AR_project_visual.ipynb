{
 "cells": [
  {
   "cell_type": "code",
   "execution_count": 1,
   "metadata": {
    "colab": {
     "base_uri": "https://localhost:8080/"
    },
    "id": "Wk3W3pCvKmlR",
    "outputId": "a36aec53-2a8e-4f44-d1a6-1b4fa63a9a4e"
   },
   "outputs": [
    {
     "name": "stdout",
     "output_type": "stream",
     "text": [
      "Collecting dash\n",
      "  Using cached dash-2.6.1-py3-none-any.whl (9.9 MB)\n",
      "Requirement already satisfied: Flask>=1.0.4 in c:\\users\\alvaro\\anaconda3\\lib\\site-packages (from dash) (1.1.2)\n",
      "Collecting dash-core-components==2.0.0\n",
      "  Using cached dash_core_components-2.0.0-py3-none-any.whl (3.8 kB)\n",
      "Collecting dash-table==5.0.0\n",
      "  Using cached dash_table-5.0.0-py3-none-any.whl (3.9 kB)\n",
      "Collecting flask-compress\n",
      "  Using cached Flask_Compress-1.12-py3-none-any.whl (7.9 kB)\n",
      "Collecting dash-html-components==2.0.0\n",
      "  Using cached dash_html_components-2.0.0-py3-none-any.whl (4.1 kB)\n",
      "Requirement already satisfied: plotly>=5.0.0 in c:\\users\\alvaro\\anaconda3\\lib\\site-packages (from dash) (5.10.0)\n",
      "Requirement already satisfied: itsdangerous>=0.24 in c:\\users\\alvaro\\anaconda3\\lib\\site-packages (from Flask>=1.0.4->dash) (2.0.1)\n",
      "Requirement already satisfied: Werkzeug>=0.15 in c:\\users\\alvaro\\anaconda3\\lib\\site-packages (from Flask>=1.0.4->dash) (2.0.2)\n",
      "Requirement already satisfied: Jinja2>=2.10.1 in c:\\users\\alvaro\\anaconda3\\lib\\site-packages (from Flask>=1.0.4->dash) (2.11.3)\n",
      "Requirement already satisfied: click>=5.1 in c:\\users\\alvaro\\anaconda3\\lib\\site-packages (from Flask>=1.0.4->dash) (8.0.3)\n",
      "Requirement already satisfied: colorama in c:\\users\\alvaro\\anaconda3\\lib\\site-packages (from click>=5.1->Flask>=1.0.4->dash) (0.4.4)\n",
      "Requirement already satisfied: MarkupSafe>=0.23 in c:\\users\\alvaro\\anaconda3\\lib\\site-packages (from Jinja2>=2.10.1->Flask>=1.0.4->dash) (1.1.1)\n",
      "Requirement already satisfied: tenacity>=6.2.0 in c:\\users\\alvaro\\anaconda3\\lib\\site-packages (from plotly>=5.0.0->dash) (8.0.1)\n",
      "Requirement already satisfied: brotli in c:\\users\\alvaro\\anaconda3\\lib\\site-packages (from flask-compress->dash) (1.0.9)\n",
      "Installing collected packages: flask-compress, dash-table, dash-html-components, dash-core-components, dash\n",
      "Successfully installed dash-2.6.1 dash-core-components-2.0.0 dash-html-components-2.0.0 dash-table-5.0.0 flask-compress-1.12\n"
     ]
    },
    {
     "name": "stderr",
     "output_type": "stream",
     "text": [
      "ERROR: Could not find a version that satisfies the requirement dash==1.19.0! (from versions: 0.17.4, 0.17.5, 0.17.7, 0.17.8rc1, 0.17.8rc2, 0.17.8rc3, 0.18.0, 0.18.1, 0.18.2, 0.18.3rc1, 0.18.3, 0.19.0, 0.20.0, 0.21.0, 0.21.1, 0.22.0rc1, 0.22.0rc2, 0.22.0, 0.23.1, 0.24.0, 0.24.1rc1, 0.24.1, 0.24.2, 0.25.0, 0.25.1, 0.26.0, 0.26.1rc1, 0.26.1rc2, 0.26.1rc3, 0.26.1, 0.26.2, 0.26.3, 0.26.4, 0.26.5, 0.26.6, 0.27.0rc1, 0.27.0rc2, 0.27.0rc3, 0.27.0rc4, 0.27.0rc5, 0.27.0rc6, 0.27.0rc7, 0.27.0rc8, 0.27.0rc9, 0.27.0, 0.28.0, 0.28.1, 0.28.2, 0.28.3, 0.28.4, 0.28.5, 0.28.6, 0.28.7, 0.29.0rc1, 0.29.0rc2, 0.29.0rc3, 0.29.0rc4, 0.29.0rc5, 0.29.0rc6, 0.29rc7, 0.29.0rc8, 0.29.0, 0.30.0rc1, 0.30.0rc2, 0.30.0rc3, 0.30.0rc4, 0.30.0rc5, 0.30.0, 0.31.0rc1, 0.31.0rc2, 0.31.0, 0.31.1, 0.32.0rc1, 0.32.0rc2, 0.32.0, 0.32.1, 0.32.2, 0.34.0, 0.35.0rc1, 0.35.0, 0.35.1, 0.35.2, 0.35.3, 0.36.0rc1, 0.36.0, 0.37.0rc1, 0.37.0rc2, 0.37.0, 0.38.0rc1, 0.38.0, 0.39.0, 0.40.0rc1, 0.40.0, 0.41.0, 0.42.0, 0.43.0rc1, 0.43.0rc2, 0.43.0rc3, 0.43.0, 1.0.0a1, 1.0.0, 1.0.1rc1, 1.0.1, 1.0.2, 1.1.0, 1.1.1, 1.2.0, 1.3.0, 1.3.1, 1.4.0, 1.4.1, 1.5.0, 1.5.1, 1.6.0, 1.6.1, 1.7.0, 1.8.0, 1.9.0, 1.9.1, 1.10.0, 1.11.0, 1.12.0, 1.13.0, 1.13.1, 1.13.2, 1.13.3, 1.13.4, 1.14.0, 1.15.0, 1.16.0, 1.16.1, 1.16.2, 1.16.3, 1.17.0, 1.18.0, 1.18.1, 1.19.0, 1.20.0, 1.21.0, 2.0.0rc1, 2.0.0rc2, 2.0.0rc3, 2.0.0, 2.1.0, 2.2.0, 2.3.0, 2.3.1, 2.4.0, 2.4.1, 2.5.0, 2.5.1, 2.6.0, 2.6.1)\n",
      "ERROR: No matching distribution found for dash==1.19.0!\n"
     ]
    },
    {
     "name": "stdout",
     "output_type": "stream",
     "text": [
      "Collecting jupyter_dash\n",
      "  Using cached jupyter_dash-0.4.2-py3-none-any.whl (23 kB)\n",
      "Requirement already satisfied: ipython in c:\\users\\alvaro\\anaconda3\\lib\\site-packages (from jupyter_dash) (7.29.0)\n",
      "Requirement already satisfied: requests in c:\\users\\alvaro\\anaconda3\\lib\\site-packages (from jupyter_dash) (2.26.0)\n",
      "Requirement already satisfied: ipykernel in c:\\users\\alvaro\\anaconda3\\lib\\site-packages (from jupyter_dash) (6.4.1)\n",
      "Collecting ansi2html\n",
      "  Using cached ansi2html-1.8.0-py3-none-any.whl (16 kB)\n",
      "Requirement already satisfied: dash in c:\\users\\alvaro\\anaconda3\\lib\\site-packages (from jupyter_dash) (2.6.1)\n",
      "Requirement already satisfied: nest-asyncio in c:\\users\\alvaro\\anaconda3\\lib\\site-packages (from jupyter_dash) (1.5.1)\n",
      "Collecting retrying\n",
      "  Using cached retrying-1.3.3-py3-none-any.whl\n",
      "Requirement already satisfied: flask in c:\\users\\alvaro\\anaconda3\\lib\\site-packages (from jupyter_dash) (1.1.2)\n",
      "Requirement already satisfied: dash-table==5.0.0 in c:\\users\\alvaro\\anaconda3\\lib\\site-packages (from dash->jupyter_dash) (5.0.0)\n",
      "Requirement already satisfied: flask-compress in c:\\users\\alvaro\\anaconda3\\lib\\site-packages (from dash->jupyter_dash) (1.12)\n",
      "Requirement already satisfied: plotly>=5.0.0 in c:\\users\\alvaro\\anaconda3\\lib\\site-packages (from dash->jupyter_dash) (5.10.0)\n",
      "Requirement already satisfied: dash-html-components==2.0.0 in c:\\users\\alvaro\\anaconda3\\lib\\site-packages (from dash->jupyter_dash) (2.0.0)\n",
      "Requirement already satisfied: dash-core-components==2.0.0 in c:\\users\\alvaro\\anaconda3\\lib\\site-packages (from dash->jupyter_dash) (2.0.0)\n",
      "Requirement already satisfied: Werkzeug>=0.15 in c:\\users\\alvaro\\anaconda3\\lib\\site-packages (from flask->jupyter_dash) (2.0.2)\n",
      "Requirement already satisfied: click>=5.1 in c:\\users\\alvaro\\anaconda3\\lib\\site-packages (from flask->jupyter_dash) (8.0.3)\n",
      "Requirement already satisfied: Jinja2>=2.10.1 in c:\\users\\alvaro\\anaconda3\\lib\\site-packages (from flask->jupyter_dash) (2.11.3)\n",
      "Requirement already satisfied: itsdangerous>=0.24 in c:\\users\\alvaro\\anaconda3\\lib\\site-packages (from flask->jupyter_dash) (2.0.1)\n",
      "Requirement already satisfied: colorama in c:\\users\\alvaro\\anaconda3\\lib\\site-packages (from click>=5.1->flask->jupyter_dash) (0.4.4)\n",
      "Requirement already satisfied: MarkupSafe>=0.23 in c:\\users\\alvaro\\anaconda3\\lib\\site-packages (from Jinja2>=2.10.1->flask->jupyter_dash) (1.1.1)\n",
      "Requirement already satisfied: tenacity>=6.2.0 in c:\\users\\alvaro\\anaconda3\\lib\\site-packages (from plotly>=5.0.0->dash->jupyter_dash) (8.0.1)\n",
      "Requirement already satisfied: brotli in c:\\users\\alvaro\\anaconda3\\lib\\site-packages (from flask-compress->dash->jupyter_dash) (1.0.9)\n",
      "Requirement already satisfied: jupyter-client<8.0 in c:\\users\\alvaro\\anaconda3\\lib\\site-packages (from ipykernel->jupyter_dash) (6.1.12)\n",
      "Requirement already satisfied: debugpy<2.0,>=1.0.0 in c:\\users\\alvaro\\anaconda3\\lib\\site-packages (from ipykernel->jupyter_dash) (1.4.1)\n",
      "Requirement already satisfied: tornado<7.0,>=4.2 in c:\\users\\alvaro\\anaconda3\\lib\\site-packages (from ipykernel->jupyter_dash) (6.1)\n",
      "Requirement already satisfied: traitlets<6.0,>=4.1.0 in c:\\users\\alvaro\\anaconda3\\lib\\site-packages (from ipykernel->jupyter_dash) (5.1.0)\n",
      "Requirement already satisfied: ipython-genutils in c:\\users\\alvaro\\anaconda3\\lib\\site-packages (from ipykernel->jupyter_dash) (0.2.0)\n",
      "Requirement already satisfied: matplotlib-inline<0.2.0,>=0.1.0 in c:\\users\\alvaro\\anaconda3\\lib\\site-packages (from ipykernel->jupyter_dash) (0.1.2)\n",
      "Requirement already satisfied: prompt-toolkit!=3.0.0,!=3.0.1,<3.1.0,>=2.0.0 in c:\\users\\alvaro\\anaconda3\\lib\\site-packages (from ipython->jupyter_dash) (3.0.20)\n",
      "Requirement already satisfied: setuptools>=18.5 in c:\\users\\alvaro\\anaconda3\\lib\\site-packages (from ipython->jupyter_dash) (58.0.4)\n",
      "Requirement already satisfied: pygments in c:\\users\\alvaro\\anaconda3\\lib\\site-packages (from ipython->jupyter_dash) (2.10.0)\n",
      "Requirement already satisfied: jedi>=0.16 in c:\\users\\alvaro\\anaconda3\\lib\\site-packages (from ipython->jupyter_dash) (0.18.0)\n",
      "Requirement already satisfied: backcall in c:\\users\\alvaro\\anaconda3\\lib\\site-packages (from ipython->jupyter_dash) (0.2.0)\n",
      "Requirement already satisfied: decorator in c:\\users\\alvaro\\anaconda3\\lib\\site-packages (from ipython->jupyter_dash) (5.1.0)\n",
      "Requirement already satisfied: pickleshare in c:\\users\\alvaro\\anaconda3\\lib\\site-packages (from ipython->jupyter_dash) (0.7.5)\n",
      "Requirement already satisfied: parso<0.9.0,>=0.8.0 in c:\\users\\alvaro\\anaconda3\\lib\\site-packages (from jedi>=0.16->ipython->jupyter_dash) (0.8.2)\n",
      "Requirement already satisfied: pyzmq>=13 in c:\\users\\alvaro\\anaconda3\\lib\\site-packages (from jupyter-client<8.0->ipykernel->jupyter_dash) (22.2.1)\n",
      "Requirement already satisfied: jupyter-core>=4.6.0 in c:\\users\\alvaro\\anaconda3\\lib\\site-packages (from jupyter-client<8.0->ipykernel->jupyter_dash) (4.8.1)\n",
      "Requirement already satisfied: python-dateutil>=2.1 in c:\\users\\alvaro\\anaconda3\\lib\\site-packages (from jupyter-client<8.0->ipykernel->jupyter_dash) (2.8.2)\n",
      "Requirement already satisfied: pywin32>=1.0 in c:\\users\\alvaro\\anaconda3\\lib\\site-packages (from jupyter-core>=4.6.0->jupyter-client<8.0->ipykernel->jupyter_dash) (228)\n",
      "Requirement already satisfied: wcwidth in c:\\users\\alvaro\\anaconda3\\lib\\site-packages (from prompt-toolkit!=3.0.0,!=3.0.1,<3.1.0,>=2.0.0->ipython->jupyter_dash) (0.2.5)\n",
      "Requirement already satisfied: six>=1.5 in c:\\users\\alvaro\\anaconda3\\lib\\site-packages (from python-dateutil>=2.1->jupyter-client<8.0->ipykernel->jupyter_dash) (1.16.0)\n",
      "Requirement already satisfied: certifi>=2017.4.17 in c:\\users\\alvaro\\anaconda3\\lib\\site-packages (from requests->jupyter_dash) (2021.10.8)\n",
      "Requirement already satisfied: charset-normalizer~=2.0.0 in c:\\users\\alvaro\\anaconda3\\lib\\site-packages (from requests->jupyter_dash) (2.0.4)\n",
      "Requirement already satisfied: idna<4,>=2.5 in c:\\users\\alvaro\\anaconda3\\lib\\site-packages (from requests->jupyter_dash) (3.2)\n",
      "Requirement already satisfied: urllib3<1.27,>=1.21.1 in c:\\users\\alvaro\\anaconda3\\lib\\site-packages (from requests->jupyter_dash) (1.26.7)\n",
      "Installing collected packages: retrying, ansi2html, jupyter-dash\n",
      "Successfully installed ansi2html-1.8.0 jupyter-dash-0.4.2 retrying-1.3.3\n",
      "Requirement already satisfied: plotly in c:\\users\\alvaro\\anaconda3\\lib\\site-packages (5.10.0)\n",
      "Requirement already satisfied: tenacity>=6.2.0 in c:\\users\\alvaro\\anaconda3\\lib\\site-packages (from plotly) (8.0.1)\n"
     ]
    }
   ],
   "source": [
    "!pip install dash\n",
    "\n",
    "!pip install dash==1.19.0!\n",
    "\n",
    "!pip install jupyter_dash\n",
    "\n",
    "!pip install --upgrade plotly"
   ]
  },
  {
   "cell_type": "code",
   "execution_count": 2,
   "metadata": {
    "id": "iK89_1UoJ5dB"
   },
   "outputs": [],
   "source": [
    "import pandas as pd\n",
    "import dash\n",
    "from dash import dcc\n",
    "from dash import html\n",
    "from dash.dependencies import Input, Output, State\n",
    "from jupyter_dash import JupyterDash\n",
    "import plotly.graph_objects as go\n",
    "import plotly.express as px\n",
    "from dash import no_update"
   ]
  },
  {
   "cell_type": "code",
   "execution_count": 3,
   "metadata": {
    "id": "IPqpsIIGN6xD"
   },
   "outputs": [],
   "source": [
    "# Create a dash application\n",
    "#app = JupyterDash(__name__)\n",
    "app = dash.Dash(__name__)\n",
    "#JupyterDash.infer_jupyter_proxy_config()"
   ]
  },
  {
   "cell_type": "code",
   "execution_count": 4,
   "metadata": {
    "id": "opln1J21OCOn"
   },
   "outputs": [],
   "source": [
    "# REVIEW1: Clear the layout and do not display exception till callback gets executed\n",
    "app.config.suppress_callback_exceptions = True"
   ]
  },
  {
   "cell_type": "code",
   "execution_count": 5,
   "metadata": {
    "id": "PEXQjJK7OEbc"
   },
   "outputs": [],
   "source": [
    "# Read the airline data into pandas dataframe\n",
    "airline_data =  pd.read_csv('https://cf-courses-data.s3.us.cloud-object-storage.appdomain.cloud/IBMDeveloperSkillsNetwork-DV0101EN-SkillsNetwork/Data%20Files/airline_data.csv', \n",
    "                            encoding = \"ISO-8859-1\",\n",
    "                            dtype={'Div1Airport': str, 'Div1TailNum': str, \n",
    "                                   'Div2Airport': str, 'Div2TailNum': str})"
   ]
  },
  {
   "cell_type": "code",
   "execution_count": 6,
   "metadata": {
    "id": "D6tSZS5QOStF"
   },
   "outputs": [],
   "source": [
    "# List of years \n",
    "year_list = [i for i in range(2005, 2021, 1)]"
   ]
  },
  {
   "cell_type": "code",
   "execution_count": 7,
   "metadata": {
    "id": "dzOjsNNVOZOE"
   },
   "outputs": [],
   "source": [
    "\"\"\"Compute graph data for creating yearly airline performance report \n",
    "\n",
    "Function that takes airline data as input and create 5 dataframes based on the grouping condition to be used for plottling charts and grphs.\n",
    "\n",
    "Argument:\n",
    "     \n",
    "    df: Filtered dataframe\n",
    "    \n",
    "Returns:\n",
    "   Dataframes to create graph. \n",
    "\"\"\"\n",
    "def compute_data_choice_1(df):\n",
    "    # Cancellation Category Count\n",
    "    bar_data = df.groupby(['Month','CancellationCode'])['Flights'].sum().reset_index()\n",
    "    # Average flight time by reporting airline\n",
    "    line_data = df.groupby(['Month','Reporting_Airline'])['AirTime'].mean().reset_index()\n",
    "    # Diverted Airport Landings\n",
    "    div_data = df[df['DivAirportLandings'] != 0.0]\n",
    "    # Source state count\n",
    "    map_data = df.groupby(['OriginState'])['Flights'].sum().reset_index()\n",
    "    # Destination state count\n",
    "    tree_data = df.groupby(['DestState', 'Reporting_Airline'])['Flights'].sum().reset_index()\n",
    "    return bar_data, line_data, div_data, map_data, tree_data\n",
    "\n",
    "\n",
    "\"\"\"Compute graph data for creating yearly airline delay report\n",
    "\n",
    "This function takes in airline data and selected year as an input and performs computation for creating charts and plots.\n",
    "\n",
    "Arguments:\n",
    "    df: Input airline data.\n",
    "    \n",
    "Returns:\n",
    "    Computed average dataframes for carrier delay, weather delay, NAS delay, security delay, and late aircraft delay.\n",
    "\"\"\"\n",
    "def compute_data_choice_2(df):\n",
    "    # Compute delay averages\n",
    "    avg_car = df.groupby(['Month','Reporting_Airline'])['CarrierDelay'].mean().reset_index()\n",
    "    avg_weather = df.groupby(['Month','Reporting_Airline'])['WeatherDelay'].mean().reset_index()\n",
    "    avg_NAS = df.groupby(['Month','Reporting_Airline'])['NASDelay'].mean().reset_index()\n",
    "    avg_sec = df.groupby(['Month','Reporting_Airline'])['SecurityDelay'].mean().reset_index()\n",
    "    avg_late = df.groupby(['Month','Reporting_Airline'])['LateAircraftDelay'].mean().reset_index()\n",
    "    return avg_car, avg_weather, avg_NAS, avg_sec, avg_late\n"
   ]
  },
  {
   "cell_type": "code",
   "execution_count": null,
   "metadata": {
    "colab": {
     "base_uri": "https://localhost:8080/"
    },
    "id": "4_VF9wTl3u2D",
    "outputId": "88f6b4fa-c923-418b-9fdb-061c4c258cc1"
   },
   "outputs": [
    {
     "name": "stdout",
     "output_type": "stream",
     "text": [
      "Dash is running on http://127.0.0.1:8050/\n",
      "\n",
      " * Serving Flask app \"__main__\" (lazy loading)\n",
      " * Environment: production\n",
      "\u001b[31m   WARNING: This is a development server. Do not use it in a production deployment.\u001b[0m\n",
      "\u001b[2m   Use a production WSGI server instead.\u001b[0m\n",
      " * Debug mode: off\n"
     ]
    },
    {
     "name": "stderr",
     "output_type": "stream",
     "text": [
      " * Running on http://127.0.0.1:8050/ (Press CTRL+C to quit)\n"
     ]
    },
    {
     "name": "stdout",
     "output_type": "stream",
     "text": [
      "Exception on / [GET]\n",
      "Traceback (most recent call last):\n",
      "  File \"C:\\Users\\Alvaro\\anaconda3\\lib\\site-packages\\flask\\app.py\", line 2447, in wsgi_app\n",
      "    response = self.full_dispatch_request()\n",
      "  File \"C:\\Users\\Alvaro\\anaconda3\\lib\\site-packages\\flask\\app.py\", line 1945, in full_dispatch_request\n",
      "    self.try_trigger_before_first_request_functions()\n",
      "  File \"C:\\Users\\Alvaro\\anaconda3\\lib\\site-packages\\flask\\app.py\", line 1993, in try_trigger_before_first_request_functions\n",
      "    func()\n",
      "  File \"C:\\Users\\Alvaro\\anaconda3\\lib\\site-packages\\dash\\dash.py\", line 1288, in _setup_server\n",
      "    _validate.validate_layout(self.layout, self._layout_value())\n",
      "  File \"C:\\Users\\Alvaro\\anaconda3\\lib\\site-packages\\dash\\_validate.py\", line 393, in validate_layout\n",
      "    raise exceptions.NoLayoutException(\n",
      "dash.exceptions.NoLayoutException: The layout was `None` at the time that `run_server` was called.\n",
      "Make sure to set the `layout` attribute of your application\n",
      "before running the server.\n"
     ]
    },
    {
     "name": "stderr",
     "output_type": "stream",
     "text": [
      "127.0.0.1 - - [18/Aug/2022 00:56:48] \"GET / HTTP/1.1\" 500 -\n"
     ]
    },
    {
     "name": "stdout",
     "output_type": "stream",
     "text": [
      "Exception on /favicon.ico [GET]\n",
      "Traceback (most recent call last):\n",
      "  File \"C:\\Users\\Alvaro\\anaconda3\\lib\\site-packages\\flask\\app.py\", line 2447, in wsgi_app\n",
      "    response = self.full_dispatch_request()\n",
      "  File \"C:\\Users\\Alvaro\\anaconda3\\lib\\site-packages\\flask\\app.py\", line 1945, in full_dispatch_request\n",
      "    self.try_trigger_before_first_request_functions()\n",
      "  File \"C:\\Users\\Alvaro\\anaconda3\\lib\\site-packages\\flask\\app.py\", line 1993, in try_trigger_before_first_request_functions\n",
      "    func()\n",
      "  File \"C:\\Users\\Alvaro\\anaconda3\\lib\\site-packages\\dash\\dash.py\", line 1288, in _setup_server\n",
      "    _validate.validate_layout(self.layout, self._layout_value())\n",
      "  File \"C:\\Users\\Alvaro\\anaconda3\\lib\\site-packages\\dash\\_validate.py\", line 393, in validate_layout\n",
      "    raise exceptions.NoLayoutException(\n",
      "dash.exceptions.NoLayoutException: The layout was `None` at the time that `run_server` was called.\n",
      "Make sure to set the `layout` attribute of your application\n",
      "before running the server.\n"
     ]
    },
    {
     "name": "stderr",
     "output_type": "stream",
     "text": [
      "127.0.0.1 - - [18/Aug/2022 00:56:49] \"GET /favicon.ico HTTP/1.1\" 500 -\n"
     ]
    },
    {
     "name": "stdout",
     "output_type": "stream",
     "text": [
      "Exception on / [GET]\n",
      "Traceback (most recent call last):\n",
      "  File \"C:\\Users\\Alvaro\\anaconda3\\lib\\site-packages\\flask\\app.py\", line 2447, in wsgi_app\n",
      "    response = self.full_dispatch_request()\n",
      "  File \"C:\\Users\\Alvaro\\anaconda3\\lib\\site-packages\\flask\\app.py\", line 1945, in full_dispatch_request\n",
      "    self.try_trigger_before_first_request_functions()\n",
      "  File \"C:\\Users\\Alvaro\\anaconda3\\lib\\site-packages\\flask\\app.py\", line 1993, in try_trigger_before_first_request_functions\n",
      "    func()\n",
      "  File \"C:\\Users\\Alvaro\\anaconda3\\lib\\site-packages\\dash\\dash.py\", line 1288, in _setup_server\n",
      "    _validate.validate_layout(self.layout, self._layout_value())\n",
      "  File \"C:\\Users\\Alvaro\\anaconda3\\lib\\site-packages\\dash\\_validate.py\", line 393, in validate_layout\n",
      "    raise exceptions.NoLayoutException(\n",
      "dash.exceptions.NoLayoutException: The layout was `None` at the time that `run_server` was called.\n",
      "Make sure to set the `layout` attribute of your application\n",
      "before running the server.\n"
     ]
    },
    {
     "name": "stderr",
     "output_type": "stream",
     "text": [
      "127.0.0.1 - - [18/Aug/2022 00:57:00] \"GET / HTTP/1.1\" 500 -\n"
     ]
    },
    {
     "name": "stdout",
     "output_type": "stream",
     "text": [
      "Exception on /favicon.ico [GET]\n",
      "Traceback (most recent call last):\n",
      "  File \"C:\\Users\\Alvaro\\anaconda3\\lib\\site-packages\\flask\\app.py\", line 2447, in wsgi_app\n",
      "    response = self.full_dispatch_request()\n",
      "  File \"C:\\Users\\Alvaro\\anaconda3\\lib\\site-packages\\flask\\app.py\", line 1945, in full_dispatch_request\n",
      "    self.try_trigger_before_first_request_functions()\n",
      "  File \"C:\\Users\\Alvaro\\anaconda3\\lib\\site-packages\\flask\\app.py\", line 1993, in try_trigger_before_first_request_functions\n",
      "    func()\n",
      "  File \"C:\\Users\\Alvaro\\anaconda3\\lib\\site-packages\\dash\\dash.py\", line 1288, in _setup_server\n",
      "    _validate.validate_layout(self.layout, self._layout_value())\n",
      "  File \"C:\\Users\\Alvaro\\anaconda3\\lib\\site-packages\\dash\\_validate.py\", line 393, in validate_layout\n",
      "    raise exceptions.NoLayoutException(\n",
      "dash.exceptions.NoLayoutException: The layout was `None` at the time that `run_server` was called.\n",
      "Make sure to set the `layout` attribute of your application\n",
      "before running the server.\n"
     ]
    },
    {
     "name": "stderr",
     "output_type": "stream",
     "text": [
      "127.0.0.1 - - [18/Aug/2022 00:57:01] \"GET /favicon.ico HTTP/1.1\" 500 -\n"
     ]
    },
    {
     "name": "stdout",
     "output_type": "stream",
     "text": [
      "Exception on / [GET]\n",
      "Traceback (most recent call last):\n",
      "  File \"C:\\Users\\Alvaro\\anaconda3\\lib\\site-packages\\flask\\app.py\", line 2447, in wsgi_app\n",
      "    response = self.full_dispatch_request()\n",
      "  File \"C:\\Users\\Alvaro\\anaconda3\\lib\\site-packages\\flask\\app.py\", line 1945, in full_dispatch_request\n",
      "    self.try_trigger_before_first_request_functions()\n",
      "  File \"C:\\Users\\Alvaro\\anaconda3\\lib\\site-packages\\flask\\app.py\", line 1993, in try_trigger_before_first_request_functions\n",
      "    func()\n",
      "  File \"C:\\Users\\Alvaro\\anaconda3\\lib\\site-packages\\dash\\dash.py\", line 1288, in _setup_server\n",
      "    _validate.validate_layout(self.layout, self._layout_value())\n",
      "  File \"C:\\Users\\Alvaro\\anaconda3\\lib\\site-packages\\dash\\_validate.py\", line 393, in validate_layout\n",
      "    raise exceptions.NoLayoutException(\n",
      "dash.exceptions.NoLayoutException: The layout was `None` at the time that `run_server` was called.\n",
      "Make sure to set the `layout` attribute of your application\n",
      "before running the server.\n"
     ]
    },
    {
     "name": "stderr",
     "output_type": "stream",
     "text": [
      "127.0.0.1 - - [18/Aug/2022 00:58:39] \"GET / HTTP/1.1\" 500 -\n"
     ]
    },
    {
     "name": "stdout",
     "output_type": "stream",
     "text": [
      "Exception on /favicon.ico [GET]\n",
      "Traceback (most recent call last):\n",
      "  File \"C:\\Users\\Alvaro\\anaconda3\\lib\\site-packages\\flask\\app.py\", line 2447, in wsgi_app\n",
      "    response = self.full_dispatch_request()\n",
      "  File \"C:\\Users\\Alvaro\\anaconda3\\lib\\site-packages\\flask\\app.py\", line 1945, in full_dispatch_request\n",
      "    self.try_trigger_before_first_request_functions()\n",
      "  File \"C:\\Users\\Alvaro\\anaconda3\\lib\\site-packages\\flask\\app.py\", line 1993, in try_trigger_before_first_request_functions\n",
      "    func()\n",
      "  File \"C:\\Users\\Alvaro\\anaconda3\\lib\\site-packages\\dash\\dash.py\", line 1288, in _setup_server\n",
      "    _validate.validate_layout(self.layout, self._layout_value())\n",
      "  File \"C:\\Users\\Alvaro\\anaconda3\\lib\\site-packages\\dash\\_validate.py\", line 393, in validate_layout\n",
      "    raise exceptions.NoLayoutException(\n",
      "dash.exceptions.NoLayoutException: The layout was `None` at the time that `run_server` was called.\n",
      "Make sure to set the `layout` attribute of your application\n",
      "before running the server.\n"
     ]
    },
    {
     "name": "stderr",
     "output_type": "stream",
     "text": [
      "127.0.0.1 - - [18/Aug/2022 00:58:40] \"GET /favicon.ico HTTP/1.1\" 500 -\n"
     ]
    },
    {
     "name": "stdout",
     "output_type": "stream",
     "text": [
      "Exception on / [GET]\n",
      "Traceback (most recent call last):\n",
      "  File \"C:\\Users\\Alvaro\\anaconda3\\lib\\site-packages\\flask\\app.py\", line 2447, in wsgi_app\n",
      "    response = self.full_dispatch_request()\n",
      "  File \"C:\\Users\\Alvaro\\anaconda3\\lib\\site-packages\\flask\\app.py\", line 1945, in full_dispatch_request\n",
      "    self.try_trigger_before_first_request_functions()\n",
      "  File \"C:\\Users\\Alvaro\\anaconda3\\lib\\site-packages\\flask\\app.py\", line 1993, in try_trigger_before_first_request_functions\n",
      "    func()\n",
      "  File \"C:\\Users\\Alvaro\\anaconda3\\lib\\site-packages\\dash\\dash.py\", line 1288, in _setup_server\n",
      "    _validate.validate_layout(self.layout, self._layout_value())\n",
      "  File \"C:\\Users\\Alvaro\\anaconda3\\lib\\site-packages\\dash\\_validate.py\", line 393, in validate_layout\n",
      "    raise exceptions.NoLayoutException(\n",
      "dash.exceptions.NoLayoutException: The layout was `None` at the time that `run_server` was called.\n",
      "Make sure to set the `layout` attribute of your application\n",
      "before running the server.\n"
     ]
    },
    {
     "name": "stderr",
     "output_type": "stream",
     "text": [
      "127.0.0.1 - - [18/Aug/2022 01:00:23] \"GET / HTTP/1.1\" 500 -\n"
     ]
    },
    {
     "name": "stdout",
     "output_type": "stream",
     "text": [
      "Exception on /favicon.ico [GET]\n",
      "Traceback (most recent call last):\n",
      "  File \"C:\\Users\\Alvaro\\anaconda3\\lib\\site-packages\\flask\\app.py\", line 2447, in wsgi_app\n",
      "    response = self.full_dispatch_request()\n",
      "  File \"C:\\Users\\Alvaro\\anaconda3\\lib\\site-packages\\flask\\app.py\", line 1945, in full_dispatch_request\n",
      "    self.try_trigger_before_first_request_functions()\n",
      "  File \"C:\\Users\\Alvaro\\anaconda3\\lib\\site-packages\\flask\\app.py\", line 1993, in try_trigger_before_first_request_functions\n",
      "    func()\n",
      "  File \"C:\\Users\\Alvaro\\anaconda3\\lib\\site-packages\\dash\\dash.py\", line 1288, in _setup_server\n",
      "    _validate.validate_layout(self.layout, self._layout_value())\n",
      "  File \"C:\\Users\\Alvaro\\anaconda3\\lib\\site-packages\\dash\\_validate.py\", line 393, in validate_layout\n",
      "    raise exceptions.NoLayoutException(\n",
      "dash.exceptions.NoLayoutException: The layout was `None` at the time that `run_server` was called.\n",
      "Make sure to set the `layout` attribute of your application\n",
      "before running the server.\n"
     ]
    },
    {
     "name": "stderr",
     "output_type": "stream",
     "text": [
      "127.0.0.1 - - [18/Aug/2022 01:00:24] \"GET /favicon.ico HTTP/1.1\" 500 -\n"
     ]
    }
   ],
   "source": [
    "#Application layout\n",
    "app.layou = html.Div(children = [\"US Domestic Airline Flights Performance\",\n",
    "                                 \n",
    "                                 \n",
    "                                 \n",
    "                                 # TODO1: Add title to the dashboard\n",
    "                                 \n",
    "                                 # REVIEW2: Dropdown creation\n",
    "                                 # Create an outer division\n",
    "                                 html.Div([\n",
    "                                     # Add a division\n",
    "                                     html.Div([html.H2('Report Type:', style={'margin-right': '2em'})]),\n",
    "                                     dcc.Dropdown(id = \"input-type\",\n",
    "                                                  options = [\n",
    "                                                      {\"label\":\"Yearly Airline Performance Report\", \"value\":\"OPT1\"},\n",
    "                                                      {\"label\":\"Yearly Airline Delay Report\", \"value\":\"OPT1\"}\n",
    "                                                      ],\n",
    "                                                  placeholder = \"Report type\",\n",
    "                                                  style ={'width':'80%', 'padding':'3px', 'font-size': '20px', 'text-align-last' : 'center'}\n",
    "                                         )\n",
    "                                     ],style={'textAlign': 'center', 'color': '#503D36', 'font-size': 24}),\n",
    "                                 # Add next division\n",
    "                                 html.Div([\n",
    "                                         \n",
    "                                     # Create an division for adding dropdown helper text for choosing year\n",
    "                                     html.Div([html.H2('Choose Year:', style={'margin-right': '2em'})]),\n",
    "                                     dcc.Dropdown(id = \"input-year\",\n",
    "                                                  options =[{'label': i, 'value': i} for i in year_list],\n",
    "                                                  placeholder = \"Select a year\",\n",
    "                                                  style ={'width':'80%', 'padding':'3px', 'font-size': '20px', 'text-align-last' : 'center'})\n",
    "                                     ], style = {\"display\":\"flex\"})\n",
    "                                 ])\n",
    "\n",
    "# Add Computed graphs\n",
    "# REVIEW3: Observe how we add an empty division and providing an id that will be updated during callback\n",
    "html.Div([], id = \"plot1\"),\n",
    "html.Div([\n",
    "    html.Div([], id = \"plot2\"),\n",
    "    html.Div([], id = \"plot3\")\n",
    "    ],\n",
    "    style = {\"display\":\"flex\"}),\n",
    "# TODO3:Add a division with two empty divisions inside. See above disvision for example.\n",
    "html.Div([\n",
    "    html.Div([], id = \"plot4\"),\n",
    "    html.Div([], id = \"plot5\")\n",
    "    ],\n",
    "    style = {\"display\":\"flex\"})\n",
    "\n",
    "# Callback function definition\n",
    "# TODO4: Add 5 ouput components\n",
    "\n",
    "@app.callback([Output(component_id='plot1', component_property='children'),\n",
    "               Output(component_id='plot2', component_property='children'),\n",
    "               Output(component_id='plot3', component_property='children'),\n",
    "               Output(component_id='plot4', component_property='children'),\n",
    "               Output(component_id='plot5', component_property='children')],\n",
    "              [Input(component_id='input-type', component_property='value'),\n",
    "               Input(component_id='input-year', component_property='value')],\n",
    "              # REVIEW4: Holding output state till user enters all the form information. In this case, it will be chart type and year\n",
    "              [State(\"plot1\", 'children'), State(\"plot2\", \"children\"),\n",
    "               State(\"plot3\", \"children\"), State(\"plot4\", \"children\"),\n",
    "               State(\"plot5\", \"children\")]\n",
    "              )\n",
    "\n",
    "\n",
    "# Add computation to callback function and return graph\n",
    "def get_graph(chart, year, children1, children2, c3, c4, c5):\n",
    "      \n",
    "        # Select data\n",
    "        df =  airline_data[airline_data['Year']==int(year)]\n",
    "       \n",
    "        if chart == 'OPT1':\n",
    "            # Compute required information for creating graph from the data\n",
    "            bar_data, line_data, div_data, map_data, tree_data = compute_data_choice_1(df)\n",
    "            \n",
    "            # Number of flights under different cancellation categories\n",
    "            bar_fig = px.bar(bar_data, x='Month', y='Flights', color='CancellationCode', title='Monthly Flight Cancellation')\n",
    "            \n",
    "            # TODO5: Average flight time by reporting airline\n",
    "            carrier_fig = px.line(avg_car, x='Month', y='CarrierDelay', color='Reporting_Airline', title='Average carrrier delay time (minutes) by airline')\n",
    "\n",
    "            # Percentage of diverted airport landings per reporting airline\n",
    "            pie_fig = px.pie(div_data, values='Flights', names='Reporting_Airline', title='% of flights by reporting airline')\n",
    "            \n",
    "            # REVIEW5: Number of flights flying from each state using choropleth\n",
    "            map_fig = px.choropleth(map_data,  # Input data\n",
    "                    locations='OriginState', \n",
    "                    color='Flights',  \n",
    "                    hover_data=['OriginState', 'Flights'], \n",
    "                    locationmode = 'USA-states', # Set to plot as US States\n",
    "                    color_continuous_scale='GnBu',\n",
    "                    range_color=[0, map_data['Flights'].max()]) \n",
    "            map_fig.update_layout(\n",
    "                    title_text = 'Number of flights from origin state', \n",
    "                    geo_scope='usa') # Plot only the USA instead of globe\n",
    "            \n",
    "            # TODO6: Number of flights flying to each state from each reporting airline\n",
    "            tree_fig = px.treemap(tree_data, path=['DestState', 'Reporting_Airline'], \n",
    "                      values='Flights',\n",
    "                      color='Flights',\n",
    "                      color_continuous_scale='RdBu',\n",
    "                      title='Flight count by airline to destination state'\n",
    "                      )\n",
    "                        \n",
    "            # REVIEW6: Return dcc.Graph component to the empty division\n",
    "            return [dcc.Graph(figure=tree_fig), \n",
    "                    dcc.Graph(figure=pie_fig),\n",
    "                    dcc.Graph(figure=map_fig),\n",
    "                    dcc.Graph(figure=bar_fig),\n",
    "                    dcc.Graph(figure=line_fig)\n",
    "                    ]\n",
    "        else:\n",
    "            # REVIEW7: This covers chart type 2 and we have completed this exercise under Flight Delay Time Statistics Dashboard section\n",
    "            # Compute required information for creating graph from the data\n",
    "            avg_car, avg_weather, avg_NAS, avg_sec, avg_late = compute_data_choice_2(df)\n",
    "            \n",
    "            # Create graph\n",
    "            carrier_fig = px.line(avg_car, x='Month', y='CarrierDelay', color='Reporting_Airline', title='Average carrrier delay time (minutes) by airline')\n",
    "            weather_fig = px.line(avg_weather, x='Month', y='WeatherDelay', color='Reporting_Airline', title='Average weather delay time (minutes) by airline')\n",
    "            nas_fig = px.line(avg_NAS, x='Month', y='NASDelay', color='Reporting_Airline', title='Average NAS delay time (minutes) by airline')\n",
    "            sec_fig = px.line(avg_sec, x='Month', y='SecurityDelay', color='Reporting_Airline', title='Average security delay time (minutes) by airline')\n",
    "            late_fig = px.line(avg_late, x='Month', y='LateAircraftDelay', color='Reporting_Airline', title='Average late aircraft delay time (minutes) by airline')\n",
    "            \n",
    "            return[dcc.Graph(figure=carrier_fig),\n",
    "                    dcc.Graph(figure=weather_fig), \n",
    "                    dcc.Graph(figure=nas_fig), \n",
    "                    dcc.Graph(figure=sec_fig), \n",
    "                    dcc.Graph(figure=late_fig)]\n",
    "\n",
    "# Run the app\n",
    "if __name__ == '__main__':\n",
    "    # REVIEW8: Adding dev_tools_ui=False, dev_tools_props_check=False can prevent error appearing before calling callback function\n",
    "    #app.run_server(mode=\"inline\", host=\"localhost\", debug=False, dev_tools_ui=False, dev_tools_props_check=False)\n",
    "    app.run_server()"
   ]
  },
  {
   "cell_type": "code",
   "execution_count": null,
   "metadata": {
    "id": "a61ijBw09FnT"
   },
   "outputs": [],
   "source": []
  }
 ],
 "metadata": {
  "colab": {
   "name": "AR-project_visual.ipynb",
   "provenance": []
  },
  "kernelspec": {
   "display_name": "Python 3 (ipykernel)",
   "language": "python",
   "name": "python3"
  },
  "language_info": {
   "codemirror_mode": {
    "name": "ipython",
    "version": 3
   },
   "file_extension": ".py",
   "mimetype": "text/x-python",
   "name": "python",
   "nbconvert_exporter": "python",
   "pygments_lexer": "ipython3",
   "version": "3.9.7"
  }
 },
 "nbformat": 4,
 "nbformat_minor": 1
}
